{
 "cells": [
  {
   "cell_type": "code",
   "execution_count": 6,
   "metadata": {},
   "outputs": [],
   "source": [
    "import os\n",
    "from dotenv import load_dotenv\n",
    "\n",
    "from pyspark.sql import SparkSession\n",
    "from pyspark.sql.functions import col, expr, median, count, percentile"
   ]
  },
  {
   "cell_type": "code",
   "execution_count": 2,
   "metadata": {},
   "outputs": [],
   "source": [
    "import ml_pipeline"
   ]
  },
  {
   "cell_type": "code",
   "execution_count": 3,
   "metadata": {},
   "outputs": [],
   "source": [
    "load_dotenv()\n",
    "dialect = os.getenv('DIALECT')\n",
    "host = os.getenv('HOST')\n",
    "port = os.getenv('PORT')\n",
    "user = os.getenv('USER')\n",
    "password = os.getenv('PASSWORD')\n",
    "dbname = os.getenv('DBNAME')\n",
    "datapath = os.getenv('DATAPATH')"
   ]
  },
  {
   "cell_type": "code",
   "execution_count": 4,
   "metadata": {},
   "outputs": [],
   "source": [
    "spark_jar_packages = '../misc/postgresql-42.6.0.jar'\n",
    "spark = SparkSession.builder.config(\"spark.jars\", spark_jar_packages) \\\n",
    "    .master(\"local[*]\").appName(\"Anime_Recommender\").config(\"spark.driver.memory\", \"15g\").getOrCreate()\n",
    "\n",
    "rating_df = ml_pipeline.spark_sql2df(spark, 'mal_rating', host,\n",
    "                                        port, user, password, dbname, dialect)"
   ]
  },
  {
   "cell_type": "code",
   "execution_count": 7,
   "metadata": {},
   "outputs": [
    {
     "name": "stdout",
     "output_type": "stream",
     "text": [
      "+----+----+-----+\n",
      "| 25%| 50%|  75%|\n",
      "+----+----+-----+\n",
      "|19.0|70.0|163.0|\n",
      "+----+----+-----+\n",
      "\n"
     ]
    }
   ],
   "source": [
    "rating_df.groupBy('user_id').agg(count('*').alias('n_completed')).agg(\n",
    "    percentile(col('n_completed'), 0.25).alias('25%'),\n",
    "    percentile(col('n_completed'), 0.50).alias('50%'),\n",
    "    percentile(col('n_completed'), 0.75).alias('75%'),\n",
    "    ).show()\n",
    "spark.sparkContext._jvm.System.gc()"
   ]
  },
  {
   "cell_type": "code",
   "execution_count": null,
   "metadata": {},
   "outputs": [],
   "source": []
  }
 ],
 "metadata": {
  "kernelspec": {
   "display_name": "mal_stats",
   "language": "python",
   "name": "python3"
  },
  "language_info": {
   "codemirror_mode": {
    "name": "ipython",
    "version": 3
   },
   "file_extension": ".py",
   "mimetype": "text/x-python",
   "name": "python",
   "nbconvert_exporter": "python",
   "pygments_lexer": "ipython3",
   "version": "3.11.5"
  },
  "orig_nbformat": 4
 },
 "nbformat": 4,
 "nbformat_minor": 2
}
